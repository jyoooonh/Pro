{
 "cells": [
  {
   "cell_type": "code",
   "execution_count": 1,
   "metadata": {},
   "outputs": [],
   "source": [
    "import pandas as pd"
   ]
  },
  {
   "cell_type": "code",
   "execution_count": 2,
   "metadata": {},
   "outputs": [],
   "source": [
    "pc = pd.read_csv(\"../../../1. 데이터셋/test_data/PUT_CALL.csv\", encoding='cp949')"
   ]
  },
  {
   "cell_type": "code",
   "execution_count": 3,
   "metadata": {},
   "outputs": [],
   "source": [
    "new_row = {'일자':['2023/11/03']}\n",
    "new_row = pd.DataFrame(new_row)\n",
    "new_row.index = [0]\n",
    "pc = pd.concat([new_row, pc], ignore_index=True)"
   ]
  },
  {
   "cell_type": "code",
   "execution_count": 4,
   "metadata": {},
   "outputs": [],
   "source": [
    "pc = pc[::-1]"
   ]
  },
  {
   "cell_type": "code",
   "execution_count": 5,
   "metadata": {},
   "outputs": [],
   "source": [
    "pc = pc.reset_index(drop=True)"
   ]
  },
  {
   "cell_type": "code",
   "execution_count": 6,
   "metadata": {},
   "outputs": [],
   "source": [
    "pc['거래량_CALL_shift'] = pc['거래량_CALL'].shift(1)\n",
    "pc['거래량_PUT_shift'] = pc['거래량_PUT'].shift(1)\n",
    "pc['P/C Ratio'] = pc['P/C Ratio'].shift(1)"
   ]
  },
  {
   "cell_type": "code",
   "execution_count": 7,
   "metadata": {},
   "outputs": [],
   "source": [
    "pc['CALL_vol_change(%)'] = round((pc['거래량_CALL'] - pc['거래량_CALL_shift']) / pc['거래량_CALL_shift'] * 100, 3)\n",
    "pc['PUT_vol_change(%)'] = round((pc['거래량_PUT'] - pc['거래량_PUT_shift']) / pc['거래량_PUT_shift'] * 100, 3)"
   ]
  },
  {
   "cell_type": "code",
   "execution_count": 8,
   "metadata": {},
   "outputs": [],
   "source": [
    "pc['CALL_vol_fluc'] = pc['거래량_CALL'] - pc['거래량_CALL_shift']\n",
    "pc['PUT_vol_fluc'] = pc['거래량_PUT'] - pc['거래량_PUT_shift']"
   ]
  },
  {
   "cell_type": "code",
   "execution_count": 9,
   "metadata": {},
   "outputs": [],
   "source": [
    "pc['CALL_vol_change(%)'] = pc['CALL_vol_change(%)'].shift(1)\n",
    "pc['PUT_vol_change(%)'] = pc['PUT_vol_change(%)'].shift(1)\n",
    "pc['CALL_vol_fluc'] = pc['CALL_vol_fluc'].shift(1)\n",
    "pc['PUT_vol_fluc'] = pc['PUT_vol_fluc'].shift(1)"
   ]
  },
  {
   "cell_type": "code",
   "execution_count": 10,
   "metadata": {},
   "outputs": [],
   "source": [
    "pc['일자'] = pd.to_datetime(pc['일자'])"
   ]
  },
  {
   "cell_type": "code",
   "execution_count": 11,
   "metadata": {},
   "outputs": [],
   "source": [
    "pc = pc[4:]"
   ]
  },
  {
   "cell_type": "code",
   "execution_count": 12,
   "metadata": {},
   "outputs": [],
   "source": [
    "pc.reset_index(drop=True)[\n",
    "    [\n",
    "        \"일자\",\n",
    "        \"P/C Ratio\",\n",
    "        \"CALL_vol_change(%)\",\n",
    "        \"PUT_vol_change(%)\",\n",
    "        \"CALL_vol_fluc\",\n",
    "        \"PUT_vol_fluc\",\n",
    "    ]\n",
    "].to_csv(\"../../test_features/put_call.csv\")"
   ]
  },
  {
   "cell_type": "code",
   "execution_count": null,
   "metadata": {},
   "outputs": [],
   "source": []
  }
 ],
 "metadata": {
  "kernelspec": {
   "display_name": "Python 3",
   "language": "python",
   "name": "python3"
  },
  "language_info": {
   "codemirror_mode": {
    "name": "ipython",
    "version": 3
   },
   "file_extension": ".py",
   "mimetype": "text/x-python",
   "name": "python",
   "nbconvert_exporter": "python",
   "pygments_lexer": "ipython3",
   "version": "3.11.4"
  }
 },
 "nbformat": 4,
 "nbformat_minor": 2
}
