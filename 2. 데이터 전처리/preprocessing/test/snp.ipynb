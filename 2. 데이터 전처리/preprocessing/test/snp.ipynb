{
 "cells": [
  {
   "cell_type": "code",
   "execution_count": 1,
   "metadata": {},
   "outputs": [],
   "source": [
    "import pandas as pd"
   ]
  },
  {
   "cell_type": "code",
   "execution_count": 2,
   "metadata": {},
   "outputs": [],
   "source": [
    "snp = pd.read_csv(\"../../../1. 데이터셋/test_data/S&P500.csv\")"
   ]
  },
  {
   "cell_type": "code",
   "execution_count": 3,
   "metadata": {},
   "outputs": [],
   "source": [
    "new_row = {'날짜':['2023- 11- 03']}\n",
    "new_row = pd.DataFrame(new_row)\n",
    "new_row.index = [0]\n",
    "snp = pd.concat([new_row, snp], ignore_index=True)"
   ]
  },
  {
   "cell_type": "code",
   "execution_count": 4,
   "metadata": {},
   "outputs": [],
   "source": [
    "snp = snp[::-1]"
   ]
  },
  {
   "cell_type": "code",
   "execution_count": 5,
   "metadata": {},
   "outputs": [],
   "source": [
    "snp = snp.reset_index(drop=True)"
   ]
  },
  {
   "cell_type": "code",
   "execution_count": 6,
   "metadata": {},
   "outputs": [],
   "source": [
    "snp['변동 %'] = snp['변동 %'].astype(str)\n",
    "snp[\"변동 %\"] = snp[\"변동 %\"].str.rstrip('%')\n",
    "snp[\"변동 %\"] = snp[\"변동 %\"].astype(float)\n",
    "\n",
    "snp[\"시가\"] = snp[\"시가\"].str.replace(',', '')\n",
    "snp[\"시가\"] = snp[\"시가\"].astype(float)\n",
    "\n",
    "snp[\"종가\"] = snp[\"종가\"].str.replace(',', '')\n",
    "snp[\"종가\"] = snp[\"종가\"].astype(float)\n",
    "\n",
    "snp[\"고가\"] = snp[\"고가\"].str.replace(',', '')\n",
    "snp[\"고가\"] = snp[\"고가\"].astype(float)\n",
    "\n",
    "snp[\"저가\"] = snp[\"저가\"].str.replace(',', '')\n",
    "snp[\"저가\"] = snp[\"저가\"].astype(float)"
   ]
  },
  {
   "cell_type": "code",
   "execution_count": 7,
   "metadata": {},
   "outputs": [],
   "source": [
    "snp['변동 %'] = snp['변동 %'].shift(1)"
   ]
  },
  {
   "cell_type": "code",
   "execution_count": 8,
   "metadata": {},
   "outputs": [],
   "source": [
    "snp['당일 변동률'] = round((snp['종가'] - snp['시가']) / snp['시가'] * 100, 3)\n",
    "snp['당일 변화량'] = round(snp['고가'] - snp['저가'], 3)"
   ]
  },
  {
   "cell_type": "code",
   "execution_count": 9,
   "metadata": {},
   "outputs": [],
   "source": [
    "snp['당일 변동률'] = snp['당일 변동률'].shift(1)\n",
    "snp['당일 변화량'] = snp['당일 변화량'].shift(1)"
   ]
  },
  {
   "cell_type": "code",
   "execution_count": 10,
   "metadata": {},
   "outputs": [],
   "source": [
    "snp = snp[5:]"
   ]
  },
  {
   "cell_type": "code",
   "execution_count": 11,
   "metadata": {},
   "outputs": [],
   "source": [
    "snp = snp.reset_index(drop=True)"
   ]
  },
  {
   "cell_type": "code",
   "execution_count": 12,
   "metadata": {},
   "outputs": [],
   "source": [
    "snp['날짜'] = pd.to_datetime(snp['날짜'])"
   ]
  },
  {
   "cell_type": "code",
   "execution_count": 13,
   "metadata": {},
   "outputs": [],
   "source": [
    "snp.reset_index(drop=True)[[\"날짜\", \"변동 %\", \"당일 변동률\", \"당일 변화량\"]].to_csv(\n",
    "    \"../../test_features/snp.csv\"\n",
    ")"
   ]
  },
  {
   "cell_type": "code",
   "execution_count": null,
   "metadata": {},
   "outputs": [],
   "source": []
  }
 ],
 "metadata": {
  "kernelspec": {
   "display_name": "Python 3",
   "language": "python",
   "name": "python3"
  },
  "language_info": {
   "codemirror_mode": {
    "name": "ipython",
    "version": 3
   },
   "file_extension": ".py",
   "mimetype": "text/x-python",
   "name": "python",
   "nbconvert_exporter": "python",
   "pygments_lexer": "ipython3",
   "version": "3.11.4"
  }
 },
 "nbformat": 4,
 "nbformat_minor": 2
}
