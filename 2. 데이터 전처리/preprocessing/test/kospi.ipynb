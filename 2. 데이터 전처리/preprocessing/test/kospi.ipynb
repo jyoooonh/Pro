{
 "cells": [
  {
   "cell_type": "code",
   "execution_count": 1,
   "metadata": {},
   "outputs": [],
   "source": [
    "import pandas as pd"
   ]
  },
  {
   "cell_type": "code",
   "execution_count": 2,
   "metadata": {},
   "outputs": [],
   "source": [
    "kospi = pd.read_csv(\"../../../1. 데이터셋/test_data/KOSPI.csv\")"
   ]
  },
  {
   "cell_type": "code",
   "execution_count": 3,
   "metadata": {},
   "outputs": [
    {
     "name": "stdout",
     "output_type": "stream",
     "text": [
      "<class 'pandas.core.frame.DataFrame'>\n",
      "RangeIndex: 22 entries, 21 to 0\n",
      "Data columns (total 7 columns):\n",
      " #   Column  Non-Null Count  Dtype \n",
      "---  ------  --------------  ----- \n",
      " 0   날짜      22 non-null     object\n",
      " 1   종가      22 non-null     object\n",
      " 2   시가      22 non-null     object\n",
      " 3   고가      22 non-null     object\n",
      " 4   저가      22 non-null     object\n",
      " 5   거래량     22 non-null     object\n",
      " 6   변동 %    22 non-null     object\n",
      "dtypes: object(7)\n",
      "memory usage: 1.3+ KB\n"
     ]
    }
   ],
   "source": [
    "kospi = kospi[::-1]\n",
    "kospi.info()"
   ]
  },
  {
   "cell_type": "code",
   "execution_count": 4,
   "metadata": {},
   "outputs": [],
   "source": [
    "kospi = kospi.reset_index(drop=True)"
   ]
  },
  {
   "cell_type": "code",
   "execution_count": 5,
   "metadata": {},
   "outputs": [],
   "source": [
    "kospi = kospi[['날짜', '종가', '시가', '변동 %']]"
   ]
  },
  {
   "cell_type": "code",
   "execution_count": 6,
   "metadata": {},
   "outputs": [],
   "source": [
    "kospi['변동 %'] = kospi['변동 %'].astype(str)\n",
    "kospi[\"변동 %\"] = kospi[\"변동 %\"].str.rstrip('%')\n",
    "kospi[\"변동 %\"] = kospi[\"변동 %\"].astype(float)\n",
    "\n",
    "kospi[\"시가\"] = kospi[\"시가\"].str.replace(',', '')\n",
    "kospi[\"시가\"] = kospi[\"시가\"].astype(float)\n",
    "\n",
    "kospi[\"종가\"] = kospi[\"종가\"].str.replace(',', '')\n",
    "kospi[\"종가\"] = kospi[\"종가\"].astype(float)"
   ]
  },
  {
   "cell_type": "code",
   "execution_count": 7,
   "metadata": {},
   "outputs": [],
   "source": [
    "kospi['변동 %'] = kospi['변동 %'].shift(1)"
   ]
  },
  {
   "cell_type": "code",
   "execution_count": 8,
   "metadata": {},
   "outputs": [],
   "source": [
    "kospi = kospi.dropna()"
   ]
  },
  {
   "cell_type": "code",
   "execution_count": 9,
   "metadata": {},
   "outputs": [],
   "source": [
    "kospi['종가'] = kospi['종가'].shift(1)"
   ]
  },
  {
   "cell_type": "code",
   "execution_count": 10,
   "metadata": {},
   "outputs": [],
   "source": [
    "kospi['야간변화율'] = round(((kospi['시가'] - kospi['종가']) / kospi['종가']) * 100, 3)"
   ]
  },
  {
   "cell_type": "code",
   "execution_count": 11,
   "metadata": {},
   "outputs": [
    {
     "name": "stdout",
     "output_type": "stream",
     "text": [
      "<class 'pandas.core.frame.DataFrame'>\n",
      "Index: 20 entries, 2 to 21\n",
      "Data columns (total 5 columns):\n",
      " #   Column  Non-Null Count  Dtype  \n",
      "---  ------  --------------  -----  \n",
      " 0   날짜      20 non-null     object \n",
      " 1   종가      20 non-null     float64\n",
      " 2   시가      20 non-null     float64\n",
      " 3   변동 %    20 non-null     float64\n",
      " 4   야간변화율   20 non-null     float64\n",
      "dtypes: float64(4), object(1)\n",
      "memory usage: 960.0+ bytes\n"
     ]
    }
   ],
   "source": [
    "kospi = kospi.dropna()\n",
    "kospi.info()"
   ]
  },
  {
   "cell_type": "code",
   "execution_count": 12,
   "metadata": {},
   "outputs": [],
   "source": [
    "kospi['날짜'] = pd.to_datetime(kospi['날짜'])"
   ]
  },
  {
   "cell_type": "code",
   "execution_count": 13,
   "metadata": {},
   "outputs": [],
   "source": [
    "kospi = kospi[1:]"
   ]
  },
  {
   "cell_type": "code",
   "execution_count": 14,
   "metadata": {},
   "outputs": [],
   "source": [
    "kospi = kospi.reset_index(drop=True)"
   ]
  },
  {
   "cell_type": "code",
   "execution_count": 15,
   "metadata": {},
   "outputs": [
    {
     "data": {
      "text/html": [
       "<div>\n",
       "<style scoped>\n",
       "    .dataframe tbody tr th:only-of-type {\n",
       "        vertical-align: middle;\n",
       "    }\n",
       "\n",
       "    .dataframe tbody tr th {\n",
       "        vertical-align: top;\n",
       "    }\n",
       "\n",
       "    .dataframe thead th {\n",
       "        text-align: right;\n",
       "    }\n",
       "</style>\n",
       "<table border=\"1\" class=\"dataframe\">\n",
       "  <thead>\n",
       "    <tr style=\"text-align: right;\">\n",
       "      <th></th>\n",
       "      <th>날짜</th>\n",
       "      <th>종가</th>\n",
       "      <th>시가</th>\n",
       "      <th>변동 %</th>\n",
       "      <th>야간변화율</th>\n",
       "    </tr>\n",
       "  </thead>\n",
       "  <tbody>\n",
       "    <tr>\n",
       "      <th>0</th>\n",
       "      <td>2023-10-10</td>\n",
       "      <td>2408.73</td>\n",
       "      <td>2436.58</td>\n",
       "      <td>0.21</td>\n",
       "      <td>1.156</td>\n",
       "    </tr>\n",
       "    <tr>\n",
       "      <th>1</th>\n",
       "      <td>2023-10-11</td>\n",
       "      <td>2402.58</td>\n",
       "      <td>2436.52</td>\n",
       "      <td>-0.26</td>\n",
       "      <td>1.413</td>\n",
       "    </tr>\n",
       "    <tr>\n",
       "      <th>2</th>\n",
       "      <td>2023-10-12</td>\n",
       "      <td>2450.08</td>\n",
       "      <td>2465.19</td>\n",
       "      <td>1.98</td>\n",
       "      <td>0.617</td>\n",
       "    </tr>\n",
       "    <tr>\n",
       "      <th>3</th>\n",
       "      <td>2023-10-13</td>\n",
       "      <td>2479.82</td>\n",
       "      <td>2460.85</td>\n",
       "      <td>1.21</td>\n",
       "      <td>-0.765</td>\n",
       "    </tr>\n",
       "    <tr>\n",
       "      <th>4</th>\n",
       "      <td>2023-10-16</td>\n",
       "      <td>2456.15</td>\n",
       "      <td>2442.43</td>\n",
       "      <td>-0.95</td>\n",
       "      <td>-0.559</td>\n",
       "    </tr>\n",
       "    <tr>\n",
       "      <th>5</th>\n",
       "      <td>2023-10-17</td>\n",
       "      <td>2436.24</td>\n",
       "      <td>2454.14</td>\n",
       "      <td>-0.81</td>\n",
       "      <td>0.735</td>\n",
       "    </tr>\n",
       "    <tr>\n",
       "      <th>6</th>\n",
       "      <td>2023-10-18</td>\n",
       "      <td>2460.17</td>\n",
       "      <td>2452.05</td>\n",
       "      <td>0.98</td>\n",
       "      <td>-0.330</td>\n",
       "    </tr>\n",
       "    <tr>\n",
       "      <th>7</th>\n",
       "      <td>2023-10-19</td>\n",
       "      <td>2462.60</td>\n",
       "      <td>2431.92</td>\n",
       "      <td>0.10</td>\n",
       "      <td>-1.246</td>\n",
       "    </tr>\n",
       "    <tr>\n",
       "      <th>8</th>\n",
       "      <td>2023-10-20</td>\n",
       "      <td>2415.80</td>\n",
       "      <td>2391.54</td>\n",
       "      <td>-1.90</td>\n",
       "      <td>-1.004</td>\n",
       "    </tr>\n",
       "    <tr>\n",
       "      <th>9</th>\n",
       "      <td>2023-10-23</td>\n",
       "      <td>2375.00</td>\n",
       "      <td>2370.07</td>\n",
       "      <td>-1.69</td>\n",
       "      <td>-0.208</td>\n",
       "    </tr>\n",
       "    <tr>\n",
       "      <th>10</th>\n",
       "      <td>2023-10-24</td>\n",
       "      <td>2357.02</td>\n",
       "      <td>2371.55</td>\n",
       "      <td>-0.76</td>\n",
       "      <td>0.616</td>\n",
       "    </tr>\n",
       "    <tr>\n",
       "      <th>11</th>\n",
       "      <td>2023-10-25</td>\n",
       "      <td>2383.51</td>\n",
       "      <td>2389.23</td>\n",
       "      <td>1.12</td>\n",
       "      <td>0.240</td>\n",
       "    </tr>\n",
       "    <tr>\n",
       "      <th>12</th>\n",
       "      <td>2023-10-26</td>\n",
       "      <td>2363.17</td>\n",
       "      <td>2325.82</td>\n",
       "      <td>-0.85</td>\n",
       "      <td>-1.581</td>\n",
       "    </tr>\n",
       "    <tr>\n",
       "      <th>13</th>\n",
       "      <td>2023-10-27</td>\n",
       "      <td>2299.08</td>\n",
       "      <td>2311.59</td>\n",
       "      <td>-2.71</td>\n",
       "      <td>0.544</td>\n",
       "    </tr>\n",
       "    <tr>\n",
       "      <th>14</th>\n",
       "      <td>2023-10-30</td>\n",
       "      <td>2302.81</td>\n",
       "      <td>2292.34</td>\n",
       "      <td>0.16</td>\n",
       "      <td>-0.455</td>\n",
       "    </tr>\n",
       "    <tr>\n",
       "      <th>15</th>\n",
       "      <td>2023-10-31</td>\n",
       "      <td>2310.55</td>\n",
       "      <td>2318.39</td>\n",
       "      <td>0.34</td>\n",
       "      <td>0.339</td>\n",
       "    </tr>\n",
       "    <tr>\n",
       "      <th>16</th>\n",
       "      <td>2023-11-01</td>\n",
       "      <td>2277.99</td>\n",
       "      <td>2292.89</td>\n",
       "      <td>-1.41</td>\n",
       "      <td>0.654</td>\n",
       "    </tr>\n",
       "    <tr>\n",
       "      <th>17</th>\n",
       "      <td>2023-11-02</td>\n",
       "      <td>2301.56</td>\n",
       "      <td>2336.48</td>\n",
       "      <td>1.03</td>\n",
       "      <td>1.517</td>\n",
       "    </tr>\n",
       "    <tr>\n",
       "      <th>18</th>\n",
       "      <td>2023-11-03</td>\n",
       "      <td>2343.12</td>\n",
       "      <td>2365.59</td>\n",
       "      <td>1.81</td>\n",
       "      <td>0.959</td>\n",
       "    </tr>\n",
       "  </tbody>\n",
       "</table>\n",
       "</div>"
      ],
      "text/plain": [
       "           날짜       종가       시가  변동 %  야간변화율\n",
       "0  2023-10-10  2408.73  2436.58  0.21  1.156\n",
       "1  2023-10-11  2402.58  2436.52 -0.26  1.413\n",
       "2  2023-10-12  2450.08  2465.19  1.98  0.617\n",
       "3  2023-10-13  2479.82  2460.85  1.21 -0.765\n",
       "4  2023-10-16  2456.15  2442.43 -0.95 -0.559\n",
       "5  2023-10-17  2436.24  2454.14 -0.81  0.735\n",
       "6  2023-10-18  2460.17  2452.05  0.98 -0.330\n",
       "7  2023-10-19  2462.60  2431.92  0.10 -1.246\n",
       "8  2023-10-20  2415.80  2391.54 -1.90 -1.004\n",
       "9  2023-10-23  2375.00  2370.07 -1.69 -0.208\n",
       "10 2023-10-24  2357.02  2371.55 -0.76  0.616\n",
       "11 2023-10-25  2383.51  2389.23  1.12  0.240\n",
       "12 2023-10-26  2363.17  2325.82 -0.85 -1.581\n",
       "13 2023-10-27  2299.08  2311.59 -2.71  0.544\n",
       "14 2023-10-30  2302.81  2292.34  0.16 -0.455\n",
       "15 2023-10-31  2310.55  2318.39  0.34  0.339\n",
       "16 2023-11-01  2277.99  2292.89 -1.41  0.654\n",
       "17 2023-11-02  2301.56  2336.48  1.03  1.517\n",
       "18 2023-11-03  2343.12  2365.59  1.81  0.959"
      ]
     },
     "execution_count": 15,
     "metadata": {},
     "output_type": "execute_result"
    }
   ],
   "source": [
    "kospi"
   ]
  },
  {
   "cell_type": "code",
   "execution_count": 16,
   "metadata": {},
   "outputs": [],
   "source": [
    "kospi.reset_index(drop=True)[[\"날짜\", \"변동 %\", \"야간변화율\"]].to_csv(\n",
    "    \"../../test_features/kospi.csv\"\n",
    ")"
   ]
  }
 ],
 "metadata": {
  "kernelspec": {
   "display_name": "Python 3",
   "language": "python",
   "name": "python3"
  },
  "language_info": {
   "codemirror_mode": {
    "name": "ipython",
    "version": 3
   },
   "file_extension": ".py",
   "mimetype": "text/x-python",
   "name": "python",
   "nbconvert_exporter": "python",
   "pygments_lexer": "ipython3",
   "version": "3.11.4"
  }
 },
 "nbformat": 4,
 "nbformat_minor": 2
}
